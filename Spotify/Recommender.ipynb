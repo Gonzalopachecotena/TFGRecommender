{
 "cells": [
  {
   "cell_type": "markdown",
   "metadata": {},
   "source": [
    "# MODELO DE RECOMENDACIONES EN SPOTITFY Y TRANSFERENCIA A DEEZER\n",
    "\n",
    "### Pasos\n",
    "\n",
    "1. Seguimos las indicaciones del recomendador de Spotify del principio del fichero\n",
    "2. Realizamos los pasos para transferir la playlist con las recomendaciones, los cuales se encuentrarn al final del codigo"
   ]
  },
  {
   "cell_type": "markdown",
   "metadata": {},
   "source": [
    "\n",
    "\n",
    "# Recomendador con la integración de la API de Spotify\n",
    "\n",
    "## 1: Crear un Spotify Authorization Token\n",
    "\n",
    "Debido a las restricciones de la API de Spotify, es necesario añadir el SpotifyForDevelopers a tu cuenta de Spotify para poder ejecutar este código. Ya que no es posible inicar sesión directamente en tu cuenta, con estos tokens podemos validar las credenciales y obterner la información desde Spotify.\n",
    "\n",
    "### Pasos\n",
    "\n",
    "1. Accede a https://developer.spotify.com/dashboard/ e inicia sesión (o resgistrate si aún no tienes cuenta).  \n",
    "2. Accede a  https://developer.spotify.com/console/post-playlists/ y pulsa en \"Get Token\".\n",
    "3. Selecciona los siguientes casillas:  \n",
    "    a. playlist-modify-public  \n",
    "    b. playlist-modify-private  \n",
    "    c. user-read-recently-played  \n",
    "4. Presiona en \"Request Token\" y \"Agree\". Ahora deberías ver un valor debajo de **OAuth Token**. Copialo, va a ser necesario en el futuro.  \n",
    "5. Ahora, abre Spotify. Abra el menú desplegable junto a su nombre en la esquina superior derecha, y selecciona **Account**.  \n",
    "6. Copie el **Username** para usarlo en el futuro.  \n",
    "7. En la siguiente celda, pegue los valores obtenidos anteriormente en los campos **auth_token** y **user_id**. \n",
    "\n",
    "\n",
    "**Nota: Los tokens de Spotify caducan cada hora , por lo que será necesario que siga de nuevo los pasos detallados si alguna de las celdas falla.**\n"
   ]
  },
  {
   "cell_type": "code",
   "execution_count": null,
   "metadata": {},
   "outputs": [],
   "source": [
    "import os\n",
    "os.system(\"pip3 install spotipy \")\n",
    "import spotipy\n",
    "from spotipy.oauth2 import SpotifyOAuth\n",
    "import json\n",
    "import requests\n",
    "\n",
    "# inicalizar variaables de credenciales de acceso\n",
    "auth_token = \"\"\n",
    "user_id = \"\"\n",
    "\n",
    "# comprobación de correcto funcionamiento\n",
    "if auth_token is None:\n",
    "    print(\"Authorization Token está vacio. Por favor, reinicie la aplicación después de configurar el token.\")\n",
    "else:\n",
    "    print(\"Se ha encontrado un Authorization Token\")"
   ]
  },
  {
   "cell_type": "code",
   "execution_count": 6,
   "metadata": {},
   "outputs": [],
   "source": [
    "def getAPIrequest(auth_token, url):\n",
    "    \"\"\"\n",
    "    Función para realizar peticiones GET a la API de Spotify.\n",
    "    \"\"\"\n",
    "    response = requests.get(\n",
    "            url,\n",
    "            headers={\n",
    "                \"Content-Type\": \"application/json\",\n",
    "                \"Authorization\": f\"Bearer {auth_token}\"\n",
    "            }\n",
    "        )\n",
    "    return response\n",
    "\n",
    "def postAPIrequest(auth_token, url, data):\n",
    "    \"\"\"\n",
    "    Función para realizar peticiones POST a la API de Spotify.\n",
    "    \"\"\"\n",
    "    response = requests.post(\n",
    "           url,\n",
    "           data=data,\n",
    "           headers={\n",
    "               \"Content-Type\": \"application/json\",\n",
    "               \"Authorization\": f\"Bearer {auth_token}\"\n",
    "           }\n",
    "    )\n",
    "    return response"
   ]
  },
  {
   "cell_type": "markdown",
   "metadata": {},
   "source": [
    "## 2: Recuperar las canciones reproducidas recientemente por el usuario\n",
    "Ahora, recuperamos las últimas _numOfTracks_ canciones reproducidas por el usuario. Para ello, enviamos una petición GET a la API de Spotify."
   ]
  },
  {
   "cell_type": "code",
   "execution_count": 7,
   "metadata": {},
   "outputs": [],
   "source": [
    "def getLastPlayedSongs(numOfTracks):\n",
    "    \"\"\"\n",
    "    Función para obtener las últimas canciones reproducidas por el usuario.\n",
    "    \"\"\"\n",
    "    url = f\"https://api.spotify.com/v1/me/player/recently-played?limit={numOfTracks}\"\n",
    "    response = getAPIrequest(auth_token, url)\n",
    "    response_json = response.json()\n",
    "    songs = []\n",
    "    #print(json.dumps(response_json, indent=4))\n",
    "    try:\n",
    "        for song in response_json[\"items\"]:\n",
    "            songs.append(song)\n",
    "    except KeyError:\n",
    "        print(\"Tu token de acceso a Spotify ha expirado.\")\n",
    "        print(\"Por favor, obtenga uno nuevo o pruebe otra vez.\")\n",
    "    return songs"
   ]
  },
  {
   "cell_type": "code",
   "execution_count": null,
   "metadata": {},
   "outputs": [],
   "source": [
    "num = int(input(\"¿Cuántas pistas le gustaría visualizar? \"))\n",
    "lastPlayed = getLastPlayedSongs(num)\n",
    "print(f\"\\nEstas son las últimas {num} canciones que has escuchado en Spotify:\")\n",
    "for index, track in enumerate(lastPlayed):\n",
    "    print(f\"\\n {index+1}: {track['track']['name']}, {track['track']['artists'][0]['name']} ({track['track']['album']['release_date'][:4]})\")"
   ]
  },
  {
   "cell_type": "markdown",
   "metadata": {},
   "source": [
    "## 3: Obtener las preferencias del usuario\n",
    "\n",
    "Ahora, pedimos al usuario que especifique las canciones que desea como base para sus recomendaciones. Introduzca la lista como una serie de índices separados por espacios. Por ejemplo, si quiere las canciones primera, tercera y quinta, introduzca 1 3 5"
   ]
  },
  {
   "cell_type": "code",
   "execution_count": 9,
   "metadata": {},
   "outputs": [],
   "source": [
    "ref_tracks = input(\"\\nIntroduzca una lista de hasta 5 pistas que se utilizarán como pistas iniciales: \") # introduzca los números separados por espacios de la pista\n",
    "ref_tracks = ref_tracks.split()\n",
    "seed_tracks = [lastPlayed[int(i)-1] for i in ref_tracks]\n",
    "# print(seed_tracks)"
   ]
  },
  {
   "cell_type": "markdown",
   "metadata": {},
   "source": [
    "## 4: Preprocesamiento de datos\n",
    "Utilizando las opciones del usuario, las convertimos en una entrada adecuada con el modelo para que el formato coincida con el marco de datos que estamos utilizando."
   ]
  },
  {
   "cell_type": "code",
   "execution_count": null,
   "metadata": {},
   "outputs": [],
   "source": [
    "def get_song_info(song_list):\n",
    "    \"\"\"\n",
    "    Función para obtener el nombre y el año de publicación de las pistas de canciones. \n",
    "    \"\"\"\n",
    "    seeds = []\n",
    "    for item in range(len(song_list)):\n",
    "        song = {'name': song_list[item]['track']['name'], 'artists': str([song_list[item]['track']['artists'][0]['name']]) }\n",
    "        seeds.append(song)\n",
    "    return seeds\n",
    "\n",
    "get_song_info(seed_tracks)"
   ]
  },
  {
   "cell_type": "markdown",
   "metadata": {},
   "source": [
    "## 5: Construcción de modelos y entrenamiento\n",
    "Pasamos a construir y entrenar nuestro modelo. El código para hacerlo coincide exactamente con el código de Recommender.ipynb. "
   ]
  },
  {
   "cell_type": "code",
   "execution_count": null,
   "metadata": {},
   "outputs": [],
   "source": [
    "os.system(\"pip install numpy\")\n",
    "import numpy as np\n",
    "import pandas as pd\n",
    "import matplotlib as mpl\n",
    "import matplotlib.pyplot as plt\n",
    "import plotly.express as px\n",
    "%matplotlib inline"
   ]
  },
  {
   "cell_type": "code",
   "execution_count": 12,
   "metadata": {},
   "outputs": [],
   "source": [
    "song_data = pd.read_csv('./data/data.csv')"
   ]
  },
  {
   "cell_type": "code",
   "execution_count": null,
   "metadata": {},
   "outputs": [],
   "source": [
    "from sklearn.cluster import KMeans\n",
    "from sklearn.preprocessing import StandardScaler\n",
    "from sklearn.pipeline import Pipeline\n",
    "song_cluster_pipeline = Pipeline([('scaler', StandardScaler()), \n",
    "                                  ('kmeans', KMeans(n_clusters=20, \n",
    "                                   verbose=2))],verbose=True)\n",
    "X = song_data.select_dtypes(np.number)\n",
    "number_cols = list(X.columns)\n",
    "song_cluster_pipeline.fit(X)\n",
    "np.save('my_history.npy',song_cluster_pipeline)\n",
    "import joblib\n",
    "joblib.dump(song_cluster_pipeline,'modelo_entrenado2.pkl')\n",
    "song_cluster_labels = song_cluster_pipeline.predict(X)\n",
    "song_data['cluster_label'] = song_cluster_labels"
   ]
  },
  {
   "cell_type": "markdown",
   "metadata": {},
   "source": [
    "## 6: Realizar recomendaciones\n",
    "Ahora procedemos a realizar recomendaciones basadas en las preferencias del usuario. El algoritmo seguido aquí es el mismo que el de Recommender.ipynb. Los únicos cambios son en las columnas de entrada y salida, para que estos datos sean aptos para la interacción con el endpoint de la API de Spotify. "
   ]
  },
  {
   "cell_type": "code",
   "execution_count": 15,
   "metadata": {},
   "outputs": [],
   "source": [
    "from collections import defaultdict\n",
    "from scipy.spatial.distance import cdist\n",
    "import difflib\n",
    "    \n",
    "def get_song_data(song, song_data):\n",
    "    \n",
    "    \"\"\"\n",
    "    Obtiene los datos de una canción específica. La canción adopta la forma de un diccionario con \n",
    "    pares clave-valor para el nombre y el año de lanzamiento.\n",
    "    \"\"\"\n",
    "    try:\n",
    "        song_info = song_data[(song_data['name'] == song['name']) \n",
    "                            & (song_data['artists'] == song['artists'])].iloc[0]\n",
    "        return song_info\n",
    "    except IndexError:\n",
    "        return None\n",
    "\n",
    "def get_mean_vector(song_list, song_data):\n",
    "    \"\"\"\n",
    "   Obtiene el vector medio de una lista de canciones.\n",
    "    \"\"\"\n",
    "    song_vectors = []\n",
    "    for song in song_list:\n",
    "        song_info = get_song_data(song, song_data)\n",
    "        if song_info is None:\n",
    "            print('Cuidado: {} no existe en la base de datos'.format(song['name']))\n",
    "            continue\n",
    "        song_vector = song_info[number_cols].values\n",
    "        song_vectors.append(song_vector)  \n",
    "    song_matrix = np.array(list(song_vectors))\n",
    "    return np.mean(song_matrix, axis=0)\n",
    "\n",
    "def flatten_dict_list(dict_list):\n",
    "    \"\"\"\n",
    "    Función de utilidad para \"flatering\" una lista de diccionarios.\n",
    "    \"\"\"\n",
    "    flattened_dict = defaultdict()\n",
    "    for key in dict_list[0].keys():\n",
    "        flattened_dict[key] = []\n",
    "    for dictionary in dict_list:\n",
    "        for key, value in dictionary.items():\n",
    "            flattened_dict[key].append(value)\n",
    "    return flattened_dict"
   ]
  },
  {
   "cell_type": "code",
   "execution_count": 16,
   "metadata": {},
   "outputs": [],
   "source": [
    "def recommend_songs(song_list, song_data, n_songs=12):\n",
    "    \"\"\"\n",
    "   Recomienda canciones basándose en una lista de canciones anteriores que el usuario ha escuchado.\n",
    "    \"\"\"\n",
    "    metadata_cols = ['name', 'year', 'artists', 'id']\n",
    "    song_dict = flatten_dict_list(song_list)\n",
    "    \n",
    "    song_center = get_mean_vector(song_list, song_data)\n",
    "    scaler = song_cluster_pipeline.steps[0][1]\n",
    "    scaled_data = scaler.transform(song_data[number_cols])\n",
    "    scaled_song_center = scaler.transform(song_center.reshape(1, -1))\n",
    "    distances = cdist(scaled_song_center, scaled_data, 'cosine')\n",
    "    index = list(np.argsort(distances)[:, :n_songs][0])\n",
    "    \n",
    "    rec_songs = song_data.iloc[index]\n",
    "    rec_songs = rec_songs[~rec_songs['name'].isin(song_dict['name'])]\n",
    "    return rec_songs[metadata_cols].to_dict(orient='records')[1:]"
   ]
  },
  {
   "cell_type": "code",
   "execution_count": null,
   "metadata": {},
   "outputs": [],
   "source": [
    "recommended = recommend_songs(get_song_info(seed_tracks), song_data)\n",
    "print(recommended)"
   ]
  },
  {
   "cell_type": "markdown",
   "metadata": {},
   "source": [
    "## 7: Crear una lista de reproducción\n",
    "Ahora creamos una lista de reproducción con las recomendaciones que hemos hallado.  \n",
    "\n",
    "En primer lugar, creamos una lista de reproducción con un título especificado por el usuario realizando una solicitud POST a la API.\n",
    "A continuación, comparamos el \"id\" de las canciones de la lista de canciones _recomendadas_ con sus respectivas URI de Spotify mediante una serie de peticiones GET.\n",
    "\n",
    "\n",
    "Todos estos URIs se añaden a una lista JSON, que luego se utiliza en una solicitud POST a la API, para añadir estas canciones a la lista de reproducción que acabamos de crear."
   ]
  },
  {
   "cell_type": "code",
   "execution_count": 18,
   "metadata": {},
   "outputs": [],
   "source": [
    "playlist_name = input(\"Introduce el nombre de la playlist:\")\n",
    "playlist_description = \"Playlist creada con un modelo de recomendaciones!\""
   ]
  },
  {
   "cell_type": "code",
   "execution_count": 19,
   "metadata": {},
   "outputs": [],
   "source": [
    "def createPlaylist(name=playlist_name, description=playlist_description, user_id=user_id):\n",
    "    \"\"\"\n",
    "    Esta función crea una lista de reproducción para el usuario con el nombre y la descripción dadas.\n",
    "    \"\"\"\n",
    "    data = json.dumps({\n",
    "            \"name\": name,\n",
    "            \"description\": description,\n",
    "            \"public\": True\n",
    "        })\n",
    "    url = f\"https://api.spotify.com/v1/users/{user_id}/playlists\"\n",
    "    response = postAPIrequest(auth_token, url, data)\n",
    "    response_json = response.json()\n",
    "    playlist_id = response_json[\"id\"]\n",
    "    return playlist_id"
   ]
  },
  {
   "cell_type": "code",
   "execution_count": 20,
   "metadata": {},
   "outputs": [],
   "source": [
    "def searchForTrack(track):\n",
    "    \"\"\"\n",
    "    Esta función hace coincidir el id de una canción con su URI en Spotify.\n",
    "    Los URIs son necesarios para añadir canciones a una lista de reproducción.\n",
    "    \"\"\"\n",
    "    url = f\"https://api.spotify.com/v1/tracks/{track['id']}\"\n",
    "    response = getAPIrequest(auth_token, url)\n",
    "    response_json = response.json()\n",
    "    track_uri = response_json[\"uri\"]\n",
    "    return track_uri\n",
    "        "
   ]
  },
  {
   "cell_type": "code",
   "execution_count": 21,
   "metadata": {},
   "outputs": [],
   "source": [
    "def addSongsToPlaylist(playlist_id, tracks):\n",
    "    \"\"\"\n",
    "    Esta función encuentra los URI de todas las canciones recomendadas y las añade a la lista de reproducción.\n",
    "    \"\"\"\n",
    "    track_uris = [searchForTrack(track) for track in tracks]\n",
    "    #print(track_uris)\n",
    "    data = json.dumps(track_uris)\n",
    "    url = f\"https://api.spotify.com/v1/playlists/{playlist_id}/tracks\"\n",
    "    response = postAPIrequest(auth_token, url, data)\n",
    "    response_json = response.json()\n",
    "    return response_json"
   ]
  },
  {
   "cell_type": "code",
   "execution_count": null,
   "metadata": {},
   "outputs": [],
   "source": [
    "addSongsToPlaylist(createPlaylist(), recommended)"
   ]
  },
  {
   "cell_type": "markdown",
   "metadata": {},
   "source": [
    "**Si la celda anterior devuelve un snapshot_id, significa que la lista de reproducción se ha creado con éxito. Por favor, comprueba tu cuenta de Spotify.**\n"
   ]
  },
  {
   "cell_type": "markdown",
   "metadata": {},
   "source": [
    "# Transferencia de recomendaciones a Deezer\n",
    "\n",
    "## 1: Crear una aplicación en Spotify\n",
    "\n",
    "Debido a las restricciones de la API de Spotify, es necesario añadir el SpotifyForDevelopers a tu cuenta de Spotify para poder ejecutar este código. Ya que no es posible inicar sesión directamente en tu cuenta, con estos tokens podemos validar las credenciales y obterner la información desde Spotify.\n",
    "\n",
    "### Pasos\n",
    "\n",
    "1. Registra una aplicación Spotify (usando este enlace como guía https://developer.spotify.com/web-api/tutorial/).\n",
    "2. Añade la URL http://localhost:8080/spotifyCallback en el apartado de Redirect URIs.\n",
    "3. Modifique los valores del fichero \"api-secrets.js\" que se encuentra en la ruta Deezer/src/lib, con los datos del ID de cliente y la key de la aplicacion creada.\n",
    "\n",
    "## 2: Crear una aplicación en Deezer\n",
    "\n",
    "### Pasos\n",
    "\n",
    "1. Registra una aplicación Deezer (usando este enlace como guía http://developers.deezer.com/guidelines/getting_started).\n",
    "2. Ingresa la URL http://localhost:8080 en el apartado de Application domain, http://localhost:8080/deezerCallback en Redirect URL after authentication y un link aleatorio en Link to your Terms of Use.\n",
    "3. Modifique los valores del fichero \"api-secrets.js\" que se encuentra en la ruta Deezer/src/lib, con los datos del ID de aplicacion y la key de la aplicacion creada.\n"
   ]
  },
  {
   "cell_type": "markdown",
   "metadata": {},
   "source": [
    "## 3: Lanzar una interfaz en una ventana del navegador y realizar la transferencia\n",
    "La API de Deezer nos obliga a seguir unos pasos para llevar a cabo la autententicación, estos estan ya estipulados y tienen que ser a través del navegador.\n",
    "\n",
    "Por ello, existe una aplicación en la ruta Deezer/src, la cuál se lanzará a continuanción para poder seguir con el proceso.\n",
    "Esta abrira un nueva ventana en la dirección http://localhost:8080, y alli se deberá realizar el inicio de sesión en Spotify, seleccionar la playlist que queremos transferir, que sera la creada anteriormente, y posteriormente iniciar sesión en Deezer y seleccionar la playlist de nuevo.\n",
    "\n",
    "Despues de seguir estos pasos, la playlist se habrá transferido correctamente a la cuenta de Deezer"
   ]
  },
  {
   "cell_type": "code",
   "execution_count": null,
   "metadata": {},
   "outputs": [],
   "source": [
    "import os \n",
    "import webbrowser\n",
    "\n",
    "os.system(\"npm install ../Deezer \")\n",
    "#Se instalan las dependencias necesarias \n",
    "webbrowser.open(\"http://localhost:8080\", new=2, autoraise=True)\n",
    "#Se lanza una nueva ventana con la URL donde se realizara la transferencia y que debera ser recargada\n",
    "os.system(\"node ../Deezer/src/app.js\")\n",
    "# Se inicia la aplicacion\n"
   ]
  }
 ],
 "metadata": {
  "interpreter": {
   "hash": "3d597f4c481aa0f25dceb95d2a0067e73c0966dcbd003d741d821a7208527ecf"
  },
  "kernelspec": {
   "display_name": "Python 3.9.7 ('base')",
   "language": "python",
   "name": "python3"
  },
  "language_info": {
   "codemirror_mode": {
    "name": "ipython",
    "version": 3
   },
   "file_extension": ".py",
   "mimetype": "text/x-python",
   "name": "python",
   "nbconvert_exporter": "python",
   "pygments_lexer": "ipython3",
   "version": "3.9.7"
  }
 },
 "nbformat": 4,
 "nbformat_minor": 4
}
